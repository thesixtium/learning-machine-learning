{
 "cells": [
  {
   "cell_type": "markdown",
   "id": "dc737875",
   "metadata": {},
   "source": [
    "# Trying My Own Care Price Predictor\n",
    "Dataset from *https://www.kaggle.com/datasets/quantbruce/real-estate-price-prediction?resource=download*"
   ]
  },
  {
   "cell_type": "markdown",
   "id": "2c355dad",
   "metadata": {},
   "source": [
    "## Setup"
   ]
  },
  {
   "cell_type": "code",
   "execution_count": 1,
   "id": "4773b6c0",
   "metadata": {},
   "outputs": [],
   "source": [
    "# Python ≥3.5 is required\n",
    "import sys\n",
    "assert sys.version_info >= (3, 5)\n",
    "\n",
    "# Scikit-Learn ≥0.20 is required\n",
    "import sklearn\n",
    "assert sklearn.__version__ >= \"0.20\"\n",
    "\n",
    "# Common imports\n",
    "import numpy as np\n",
    "import os\n",
    "\n",
    "# To plot pretty figures\n",
    "%matplotlib inline\n",
    "import matplotlib as mpl\n",
    "import matplotlib.pyplot as plt\n",
    "mpl.rc('axes', labelsize=14)\n",
    "mpl.rc('xtick', labelsize=12)\n",
    "mpl.rc('ytick', labelsize=12)\n",
    "\n",
    "# Where to save the figures\n",
    "PROJECT_ROOT_DIR = \".\"\n",
    "CHAPTER_ID = \"end_to_end_project\"\n",
    "IMAGES_PATH = os.path.join(PROJECT_ROOT_DIR, \"images\", CHAPTER_ID)\n",
    "os.makedirs(IMAGES_PATH, exist_ok=True)\n",
    "\n",
    "def save_fig(fig_id, tight_layout=True, fig_extension=\"png\", resolution=300):\n",
    "    path = os.path.join(IMAGES_PATH, fig_id + \".\" + fig_extension)\n",
    "    print(\"Saving figure\", fig_id)\n",
    "    if tight_layout:\n",
    "        plt.tight_layout()\n",
    "    plt.savefig(path, format=fig_extension, dpi=resolution)"
   ]
  },
  {
   "cell_type": "markdown",
   "id": "b5c075d7",
   "metadata": {},
   "source": [
    "## Setup The Data"
   ]
  },
  {
   "cell_type": "code",
   "execution_count": 2,
   "id": "3416f789",
   "metadata": {},
   "outputs": [],
   "source": [
    "CAR_PATH = os.path.join(\"datasets\", \"car_details\")\n",
    "\n",
    "import pandas as pd\n",
    "\n",
    "def load_car_data(car_path=CAR_PATH):\n",
    "    csv_path = os.path.join(car_path, \"Car details v3.csv\")\n",
    "    return pd.read_csv(csv_path)"
   ]
  },
  {
   "cell_type": "markdown",
   "id": "bff5941f",
   "metadata": {},
   "source": [
    "## Look at the Data Structure"
   ]
  },
  {
   "cell_type": "code",
   "execution_count": 3,
   "id": "71553705",
   "metadata": {},
   "outputs": [
    {
     "data": {
      "text/html": [
       "<div>\n",
       "<style scoped>\n",
       "    .dataframe tbody tr th:only-of-type {\n",
       "        vertical-align: middle;\n",
       "    }\n",
       "\n",
       "    .dataframe tbody tr th {\n",
       "        vertical-align: top;\n",
       "    }\n",
       "\n",
       "    .dataframe thead th {\n",
       "        text-align: right;\n",
       "    }\n",
       "</style>\n",
       "<table border=\"1\" class=\"dataframe\">\n",
       "  <thead>\n",
       "    <tr style=\"text-align: right;\">\n",
       "      <th></th>\n",
       "      <th>name</th>\n",
       "      <th>year</th>\n",
       "      <th>selling_price</th>\n",
       "      <th>km_driven</th>\n",
       "      <th>fuel</th>\n",
       "      <th>seller_type</th>\n",
       "      <th>transmission</th>\n",
       "      <th>owner</th>\n",
       "      <th>mileage</th>\n",
       "      <th>engine</th>\n",
       "      <th>max_power</th>\n",
       "      <th>torque</th>\n",
       "      <th>seats</th>\n",
       "    </tr>\n",
       "  </thead>\n",
       "  <tbody>\n",
       "    <tr>\n",
       "      <th>0</th>\n",
       "      <td>Maruti Swift Dzire VDI</td>\n",
       "      <td>2014</td>\n",
       "      <td>450000</td>\n",
       "      <td>145500</td>\n",
       "      <td>Diesel</td>\n",
       "      <td>Individual</td>\n",
       "      <td>Manual</td>\n",
       "      <td>First Owner</td>\n",
       "      <td>23.4 kmpl</td>\n",
       "      <td>1248 CC</td>\n",
       "      <td>74 bhp</td>\n",
       "      <td>190Nm@ 2000rpm</td>\n",
       "      <td>5.0</td>\n",
       "    </tr>\n",
       "    <tr>\n",
       "      <th>1</th>\n",
       "      <td>Skoda Rapid 1.5 TDI Ambition</td>\n",
       "      <td>2014</td>\n",
       "      <td>370000</td>\n",
       "      <td>120000</td>\n",
       "      <td>Diesel</td>\n",
       "      <td>Individual</td>\n",
       "      <td>Manual</td>\n",
       "      <td>Second Owner</td>\n",
       "      <td>21.14 kmpl</td>\n",
       "      <td>1498 CC</td>\n",
       "      <td>103.52 bhp</td>\n",
       "      <td>250Nm@ 1500-2500rpm</td>\n",
       "      <td>5.0</td>\n",
       "    </tr>\n",
       "    <tr>\n",
       "      <th>2</th>\n",
       "      <td>Honda City 2017-2020 EXi</td>\n",
       "      <td>2006</td>\n",
       "      <td>158000</td>\n",
       "      <td>140000</td>\n",
       "      <td>Petrol</td>\n",
       "      <td>Individual</td>\n",
       "      <td>Manual</td>\n",
       "      <td>Third Owner</td>\n",
       "      <td>17.7 kmpl</td>\n",
       "      <td>1497 CC</td>\n",
       "      <td>78 bhp</td>\n",
       "      <td>12.7@ 2,700(kgm@ rpm)</td>\n",
       "      <td>5.0</td>\n",
       "    </tr>\n",
       "    <tr>\n",
       "      <th>3</th>\n",
       "      <td>Hyundai i20 Sportz Diesel</td>\n",
       "      <td>2010</td>\n",
       "      <td>225000</td>\n",
       "      <td>127000</td>\n",
       "      <td>Diesel</td>\n",
       "      <td>Individual</td>\n",
       "      <td>Manual</td>\n",
       "      <td>First Owner</td>\n",
       "      <td>23.0 kmpl</td>\n",
       "      <td>1396 CC</td>\n",
       "      <td>90 bhp</td>\n",
       "      <td>22.4 kgm at 1750-2750rpm</td>\n",
       "      <td>5.0</td>\n",
       "    </tr>\n",
       "    <tr>\n",
       "      <th>4</th>\n",
       "      <td>Maruti Swift VXI BSIII</td>\n",
       "      <td>2007</td>\n",
       "      <td>130000</td>\n",
       "      <td>120000</td>\n",
       "      <td>Petrol</td>\n",
       "      <td>Individual</td>\n",
       "      <td>Manual</td>\n",
       "      <td>First Owner</td>\n",
       "      <td>16.1 kmpl</td>\n",
       "      <td>1298 CC</td>\n",
       "      <td>88.2 bhp</td>\n",
       "      <td>11.5@ 4,500(kgm@ rpm)</td>\n",
       "      <td>5.0</td>\n",
       "    </tr>\n",
       "  </tbody>\n",
       "</table>\n",
       "</div>"
      ],
      "text/plain": [
       "                           name  year  selling_price  km_driven    fuel  \\\n",
       "0        Maruti Swift Dzire VDI  2014         450000     145500  Diesel   \n",
       "1  Skoda Rapid 1.5 TDI Ambition  2014         370000     120000  Diesel   \n",
       "2      Honda City 2017-2020 EXi  2006         158000     140000  Petrol   \n",
       "3     Hyundai i20 Sportz Diesel  2010         225000     127000  Diesel   \n",
       "4        Maruti Swift VXI BSIII  2007         130000     120000  Petrol   \n",
       "\n",
       "  seller_type transmission         owner     mileage   engine   max_power  \\\n",
       "0  Individual       Manual   First Owner   23.4 kmpl  1248 CC      74 bhp   \n",
       "1  Individual       Manual  Second Owner  21.14 kmpl  1498 CC  103.52 bhp   \n",
       "2  Individual       Manual   Third Owner   17.7 kmpl  1497 CC      78 bhp   \n",
       "3  Individual       Manual   First Owner   23.0 kmpl  1396 CC      90 bhp   \n",
       "4  Individual       Manual   First Owner   16.1 kmpl  1298 CC    88.2 bhp   \n",
       "\n",
       "                     torque  seats  \n",
       "0            190Nm@ 2000rpm    5.0  \n",
       "1       250Nm@ 1500-2500rpm    5.0  \n",
       "2     12.7@ 2,700(kgm@ rpm)    5.0  \n",
       "3  22.4 kgm at 1750-2750rpm    5.0  \n",
       "4     11.5@ 4,500(kgm@ rpm)    5.0  "
      ]
     },
     "execution_count": 3,
     "metadata": {},
     "output_type": "execute_result"
    }
   ],
   "source": [
    "cars = load_car_data()\n",
    "cars.head()"
   ]
  },
  {
   "cell_type": "code",
   "execution_count": 4,
   "id": "d6ab4a67",
   "metadata": {
    "scrolled": true
   },
   "outputs": [
    {
     "name": "stdout",
     "output_type": "stream",
     "text": [
      "<class 'pandas.core.frame.DataFrame'>\n",
      "RangeIndex: 8128 entries, 0 to 8127\n",
      "Data columns (total 13 columns):\n",
      " #   Column         Non-Null Count  Dtype  \n",
      "---  ------         --------------  -----  \n",
      " 0   name           8128 non-null   object \n",
      " 1   year           8128 non-null   int64  \n",
      " 2   selling_price  8128 non-null   int64  \n",
      " 3   km_driven      8128 non-null   int64  \n",
      " 4   fuel           8128 non-null   object \n",
      " 5   seller_type    8128 non-null   object \n",
      " 6   transmission   8128 non-null   object \n",
      " 7   owner          8128 non-null   object \n",
      " 8   mileage        7907 non-null   object \n",
      " 9   engine         7907 non-null   object \n",
      " 10  max_power      7913 non-null   object \n",
      " 11  torque         7906 non-null   object \n",
      " 12  seats          7907 non-null   float64\n",
      "dtypes: float64(1), int64(3), object(9)\n",
      "memory usage: 539.8+ KB\n"
     ]
    }
   ],
   "source": [
    "cars.info()"
   ]
  },
  {
   "cell_type": "code",
   "execution_count": 5,
   "id": "6c018084",
   "metadata": {},
   "outputs": [
    {
     "data": {
      "text/html": [
       "<div>\n",
       "<style scoped>\n",
       "    .dataframe tbody tr th:only-of-type {\n",
       "        vertical-align: middle;\n",
       "    }\n",
       "\n",
       "    .dataframe tbody tr th {\n",
       "        vertical-align: top;\n",
       "    }\n",
       "\n",
       "    .dataframe thead th {\n",
       "        text-align: right;\n",
       "    }\n",
       "</style>\n",
       "<table border=\"1\" class=\"dataframe\">\n",
       "  <thead>\n",
       "    <tr style=\"text-align: right;\">\n",
       "      <th></th>\n",
       "      <th>year</th>\n",
       "      <th>selling_price</th>\n",
       "      <th>km_driven</th>\n",
       "      <th>seats</th>\n",
       "    </tr>\n",
       "  </thead>\n",
       "  <tbody>\n",
       "    <tr>\n",
       "      <th>count</th>\n",
       "      <td>8128.000000</td>\n",
       "      <td>8.128000e+03</td>\n",
       "      <td>8.128000e+03</td>\n",
       "      <td>7907.000000</td>\n",
       "    </tr>\n",
       "    <tr>\n",
       "      <th>mean</th>\n",
       "      <td>2013.804011</td>\n",
       "      <td>6.382718e+05</td>\n",
       "      <td>6.981951e+04</td>\n",
       "      <td>5.416719</td>\n",
       "    </tr>\n",
       "    <tr>\n",
       "      <th>std</th>\n",
       "      <td>4.044249</td>\n",
       "      <td>8.062534e+05</td>\n",
       "      <td>5.655055e+04</td>\n",
       "      <td>0.959588</td>\n",
       "    </tr>\n",
       "    <tr>\n",
       "      <th>min</th>\n",
       "      <td>1983.000000</td>\n",
       "      <td>2.999900e+04</td>\n",
       "      <td>1.000000e+00</td>\n",
       "      <td>2.000000</td>\n",
       "    </tr>\n",
       "    <tr>\n",
       "      <th>25%</th>\n",
       "      <td>2011.000000</td>\n",
       "      <td>2.549990e+05</td>\n",
       "      <td>3.500000e+04</td>\n",
       "      <td>5.000000</td>\n",
       "    </tr>\n",
       "    <tr>\n",
       "      <th>50%</th>\n",
       "      <td>2015.000000</td>\n",
       "      <td>4.500000e+05</td>\n",
       "      <td>6.000000e+04</td>\n",
       "      <td>5.000000</td>\n",
       "    </tr>\n",
       "    <tr>\n",
       "      <th>75%</th>\n",
       "      <td>2017.000000</td>\n",
       "      <td>6.750000e+05</td>\n",
       "      <td>9.800000e+04</td>\n",
       "      <td>5.000000</td>\n",
       "    </tr>\n",
       "    <tr>\n",
       "      <th>max</th>\n",
       "      <td>2020.000000</td>\n",
       "      <td>1.000000e+07</td>\n",
       "      <td>2.360457e+06</td>\n",
       "      <td>14.000000</td>\n",
       "    </tr>\n",
       "  </tbody>\n",
       "</table>\n",
       "</div>"
      ],
      "text/plain": [
       "              year  selling_price     km_driven        seats\n",
       "count  8128.000000   8.128000e+03  8.128000e+03  7907.000000\n",
       "mean   2013.804011   6.382718e+05  6.981951e+04     5.416719\n",
       "std       4.044249   8.062534e+05  5.655055e+04     0.959588\n",
       "min    1983.000000   2.999900e+04  1.000000e+00     2.000000\n",
       "25%    2011.000000   2.549990e+05  3.500000e+04     5.000000\n",
       "50%    2015.000000   4.500000e+05  6.000000e+04     5.000000\n",
       "75%    2017.000000   6.750000e+05  9.800000e+04     5.000000\n",
       "max    2020.000000   1.000000e+07  2.360457e+06    14.000000"
      ]
     },
     "execution_count": 5,
     "metadata": {},
     "output_type": "execute_result"
    }
   ],
   "source": [
    "cars.describe()"
   ]
  },
  {
   "cell_type": "markdown",
   "id": "2889833f",
   "metadata": {},
   "source": [
    "Notes:\n",
    " - milage, engine, max_power, torque, and seats are missing values\n",
    " - name, fuel, seller_type, transmission, owner, mileage, engine, max_power, torque are all non-number values"
   ]
  },
  {
   "cell_type": "code",
   "execution_count": 6,
   "id": "fab11623",
   "metadata": {},
   "outputs": [
    {
     "data": {
      "text/plain": [
       "Maruti Swift Dzire VDI                             129\n",
       "Maruti Alto 800 LXI                                 82\n",
       "Maruti Alto LXi                                     71\n",
       "BMW X4 M Sport X xDrive20d                          62\n",
       "Maruti Swift VDI                                    61\n",
       "                                                  ... \n",
       "Skoda Fabia 1.4 TDI Ambiente                         1\n",
       "Mahindra Scorpio VLX 2WD AT BSIII                    1\n",
       "Renault KWID Climber 1.0 AMT                         1\n",
       "Mahindra XUV300 W8 Option Dual Tone Diesel BSIV      1\n",
       "Toyota Innova 2.5 GX (Diesel) 8 Seater BS IV         1\n",
       "Name: name, Length: 2058, dtype: int64"
      ]
     },
     "execution_count": 6,
     "metadata": {},
     "output_type": "execute_result"
    }
   ],
   "source": [
    "cars[\"name\"].value_counts()"
   ]
  },
  {
   "cell_type": "code",
   "execution_count": 7,
   "id": "fc0e74e8",
   "metadata": {},
   "outputs": [
    {
     "data": {
      "text/plain": [
       "Diesel    4402\n",
       "Petrol    3631\n",
       "CNG         57\n",
       "LPG         38\n",
       "Name: fuel, dtype: int64"
      ]
     },
     "execution_count": 7,
     "metadata": {},
     "output_type": "execute_result"
    }
   ],
   "source": [
    "cars[\"fuel\"].value_counts()"
   ]
  },
  {
   "cell_type": "code",
   "execution_count": 8,
   "id": "8a5ac54b",
   "metadata": {},
   "outputs": [
    {
     "data": {
      "text/plain": [
       "Individual          6766\n",
       "Dealer              1126\n",
       "Trustmark Dealer     236\n",
       "Name: seller_type, dtype: int64"
      ]
     },
     "execution_count": 8,
     "metadata": {},
     "output_type": "execute_result"
    }
   ],
   "source": [
    "cars[\"seller_type\"].value_counts()"
   ]
  },
  {
   "cell_type": "code",
   "execution_count": 9,
   "id": "2e818c3b",
   "metadata": {},
   "outputs": [
    {
     "data": {
      "text/plain": [
       "Manual       7078\n",
       "Automatic    1050\n",
       "Name: transmission, dtype: int64"
      ]
     },
     "execution_count": 9,
     "metadata": {},
     "output_type": "execute_result"
    }
   ],
   "source": [
    "cars[\"transmission\"].value_counts()"
   ]
  },
  {
   "cell_type": "code",
   "execution_count": 10,
   "id": "3dd1ef10",
   "metadata": {},
   "outputs": [
    {
     "data": {
      "text/plain": [
       "First Owner             5289\n",
       "Second Owner            2105\n",
       "Third Owner              555\n",
       "Fourth & Above Owner     174\n",
       "Test Drive Car             5\n",
       "Name: owner, dtype: int64"
      ]
     },
     "execution_count": 10,
     "metadata": {},
     "output_type": "execute_result"
    }
   ],
   "source": [
    "cars[\"owner\"].value_counts()"
   ]
  },
  {
   "cell_type": "code",
   "execution_count": 11,
   "id": "93d4be40",
   "metadata": {},
   "outputs": [
    {
     "data": {
      "text/plain": [
       "18.9 kmpl      225\n",
       "19.7 kmpl      173\n",
       "18.6 kmpl      164\n",
       "21.1 kmpl      157\n",
       "17.0 kmpl      133\n",
       "              ... \n",
       "16.34 kmpl       1\n",
       "19.69 kmpl       1\n",
       "20.88 km/kg      1\n",
       "17.8 km/kg       1\n",
       "16.51 kmpl       1\n",
       "Name: mileage, Length: 393, dtype: int64"
      ]
     },
     "execution_count": 11,
     "metadata": {},
     "output_type": "execute_result"
    }
   ],
   "source": [
    "cars[\"mileage\"].value_counts()"
   ]
  },
  {
   "cell_type": "code",
   "execution_count": 12,
   "id": "bc4d52ed",
   "metadata": {},
   "outputs": [
    {
     "data": {
      "text/plain": [
       "1248 CC    1017\n",
       "1197 CC     832\n",
       "998 CC      453\n",
       "796 CC      444\n",
       "2179 CC     389\n",
       "           ... \n",
       "2835 CC       1\n",
       "1489 CC       1\n",
       "1422 CC       1\n",
       "2496 CC       1\n",
       "1950 CC       1\n",
       "Name: engine, Length: 121, dtype: int64"
      ]
     },
     "execution_count": 12,
     "metadata": {},
     "output_type": "execute_result"
    }
   ],
   "source": [
    "cars[\"engine\"].value_counts()"
   ]
  },
  {
   "cell_type": "code",
   "execution_count": 13,
   "id": "d56a9ee7",
   "metadata": {},
   "outputs": [
    {
     "data": {
      "text/plain": [
       "74 bhp       377\n",
       "81.80 bhp    220\n",
       "88.5 bhp     204\n",
       "67 bhp       165\n",
       "46.3 bhp     162\n",
       "            ... \n",
       "203.2 bhp      1\n",
       "175 bhp        1\n",
       "57 bhp         1\n",
       "80.84 bhp      1\n",
       "135.1 bhp      1\n",
       "Name: max_power, Length: 322, dtype: int64"
      ]
     },
     "execution_count": 13,
     "metadata": {},
     "output_type": "execute_result"
    }
   ],
   "source": [
    "cars[\"max_power\"].value_counts()"
   ]
  },
  {
   "cell_type": "code",
   "execution_count": 14,
   "id": "f554482e",
   "metadata": {
    "scrolled": true
   },
   "outputs": [
    {
     "data": {
      "text/plain": [
       "190Nm@ 2000rpm             530\n",
       "200Nm@ 1750rpm             445\n",
       "90Nm@ 3500rpm              405\n",
       "113Nm@ 4200rpm             223\n",
       "114Nm@ 4000rpm             171\n",
       "                          ... \n",
       "128Nm@ 3100rpm               1\n",
       "72.9Nm@ 2250rpm              1\n",
       "155 Nm at 1600-2800 rpm      1\n",
       "510Nm@ 1600-2800rpm          1\n",
       "96  Nm at 3000  rpm          1\n",
       "Name: torque, Length: 441, dtype: int64"
      ]
     },
     "execution_count": 14,
     "metadata": {},
     "output_type": "execute_result"
    }
   ],
   "source": [
    "cars[\"torque\"].value_counts()"
   ]
  },
  {
   "cell_type": "markdown",
   "id": "36b11da0",
   "metadata": {},
   "source": [
    "Notes:\n",
    " - name: won't use\n",
    " - fuel: one hot encoding\n",
    " - seller_type: one hot encoding\n",
    " - transmission: one hot encoding\n",
    " - owner: one hot encoding\n",
    " - mileage: all make a standard unit\n",
    " - engine: convert to int\n",
    " - max_power: convert to float\n",
    " - torque: make a Nm category, rpm category"
   ]
  },
  {
   "cell_type": "markdown",
   "id": "4f85583a",
   "metadata": {},
   "source": [
    "## Fix Some Data so it's Usable\n",
    "Change all the non-one hot encoding things"
   ]
  },
  {
   "cell_type": "code",
   "execution_count": 15,
   "id": "cc60927f",
   "metadata": {},
   "outputs": [
    {
     "data": {
      "text/plain": [
       "0    23.40\n",
       "1    21.14\n",
       "2    17.70\n",
       "3    23.00\n",
       "4    16.10\n",
       "5    20.14\n",
       "6    24.22\n",
       "7    16.10\n",
       "8    23.59\n",
       "9    20.00\n",
       "Name: mileage, dtype: float64"
      ]
     },
     "execution_count": 15,
     "metadata": {},
     "output_type": "execute_result"
    }
   ],
   "source": [
    "def fix_mileage(column):\n",
    "    correct_mileage = []\n",
    "    for i in column:\n",
    "        if 'km/kg' in str(i):\n",
    "            i = i[:-6]\n",
    "            i = float(i)*1.40\n",
    "            correct_mileage.append(float(i))\n",
    "        elif 'kmpl' in str(i):\n",
    "            i = i[:-5]\n",
    "            correct_mileage.append(float(i))\n",
    "        else:\n",
    "            correct_mileage.append(i)\n",
    "    \n",
    "    return correct_mileage\n",
    "\n",
    "cars[\"mileage\"] = fix_mileage(cars[\"mileage\"])\n",
    "cars[\"mileage\"].head(10)"
   ]
  },
  {
   "cell_type": "code",
   "execution_count": 16,
   "id": "6d9c6d54",
   "metadata": {},
   "outputs": [
    {
     "data": {
      "text/plain": [
       "0    1248.0\n",
       "1    1498.0\n",
       "2    1497.0\n",
       "3    1396.0\n",
       "4    1298.0\n",
       "5    1197.0\n",
       "6    1061.0\n",
       "7     796.0\n",
       "8    1364.0\n",
       "9    1399.0\n",
       "Name: engine, dtype: float64"
      ]
     },
     "execution_count": 16,
     "metadata": {},
     "output_type": "execute_result"
    }
   ],
   "source": [
    "import math\n",
    "\n",
    "def fix_engine(column):\n",
    "    correct_engine = []\n",
    "    for i in column:\n",
    "        j = float(str(i).replace(\" CC\", \"\"))\n",
    "        if not math.isnan(j): \n",
    "            correct_engine.append(j)\n",
    "        else:\n",
    "            correct_engine.append(j)\n",
    "    return correct_engine\n",
    "\n",
    "cars[\"engine\"] = fix_engine(cars[\"engine\"])\n",
    "cars[\"engine\"].head(10)"
   ]
  },
  {
   "cell_type": "code",
   "execution_count": 17,
   "id": "b0e3b71b",
   "metadata": {},
   "outputs": [
    {
     "data": {
      "text/plain": [
       "0     74.00\n",
       "1    103.52\n",
       "2     78.00\n",
       "3     90.00\n",
       "4     88.20\n",
       "5     81.86\n",
       "6     57.50\n",
       "7     37.00\n",
       "8     67.10\n",
       "9     68.10\n",
       "Name: max_power, dtype: float64"
      ]
     },
     "execution_count": 17,
     "metadata": {},
     "output_type": "execute_result"
    }
   ],
   "source": [
    "def fix_max_power(column):\n",
    "    correct_max_power = []\n",
    "    for i in column:\n",
    "        if \" bhp\" in str(i) and str(i) != \" bhp\":\n",
    "            correct_max_power.append(float(str(i).replace(\" bhp\", \"\")))\n",
    "        else:\n",
    "            correct_max_power.append(float(\"nan\"))\n",
    "    \n",
    "    return correct_max_power\n",
    "\n",
    "cars[\"max_power\"] = fix_max_power(cars[\"max_power\"])\n",
    "cars[\"max_power\"].head(10)"
   ]
  },
  {
   "cell_type": "code",
   "execution_count": 18,
   "id": "76abbbb7",
   "metadata": {},
   "outputs": [],
   "source": [
    "import re\n",
    "\n",
    "def fix_torque(column):\n",
    "    nm = []\n",
    "    low_rpm = []\n",
    "    high_rpm = []\n",
    "    \n",
    "    for i in column:\n",
    "        matches = re.findall(\"^[0-9]+\\.*[0-9]*\", str(i))\n",
    "        if len(matches) == 0:\n",
    "            nm.append(float(i))\n",
    "        else:\n",
    "            nm.append(float(matches[0]))\n",
    "            \n",
    "        matches = re.findall(\"[0-9]{1}[,]*[0-9]{3}\", str(i))\n",
    "        if len(matches) == 0:\n",
    "            low_rpm.append(float(str(i).replace(\"Nm\", \"\")))\n",
    "            high_rpm.append(float(str(i).replace(\"Nm\", \"\")))\n",
    "        elif len(matches) == 1:\n",
    "            low_rpm.append(float(matches[0].replace(\",\", \"\")))\n",
    "            high_rpm.append(float(matches[0].replace(\",\", \"\")))\n",
    "        else:\n",
    "            low_rpm.append(float(matches[0].replace(\",\", \"\")))\n",
    "            high_rpm.append(float(matches[1].replace(\",\", \"\")))\n",
    "    return [nm, low_rpm, high_rpm]\n",
    "\n",
    "new_columns = fix_torque(cars[\"torque\"])\n",
    "cars[\"nm\"] = new_columns[0]\n",
    "cars[\"low_rpm\"] = new_columns[1]\n",
    "cars[\"high_rpm\"] = new_columns[2]"
   ]
  },
  {
   "cell_type": "code",
   "execution_count": 19,
   "id": "568eee98",
   "metadata": {},
   "outputs": [
    {
     "data": {
      "text/plain": [
       "0    190.00\n",
       "1    250.00\n",
       "2     12.70\n",
       "3     22.40\n",
       "4     11.50\n",
       "5    113.75\n",
       "6      7.80\n",
       "7     59.00\n",
       "8    170.00\n",
       "9    160.00\n",
       "Name: nm, dtype: float64"
      ]
     },
     "execution_count": 19,
     "metadata": {},
     "output_type": "execute_result"
    }
   ],
   "source": [
    "cars[\"nm\"].head(10)"
   ]
  },
  {
   "cell_type": "code",
   "execution_count": 20,
   "id": "54ecd3dd",
   "metadata": {},
   "outputs": [
    {
     "data": {
      "text/plain": [
       "0    2000.0\n",
       "1    1500.0\n",
       "2    2700.0\n",
       "3    1750.0\n",
       "4    4500.0\n",
       "5    4000.0\n",
       "6    4500.0\n",
       "7    2500.0\n",
       "8    1800.0\n",
       "9    2000.0\n",
       "Name: low_rpm, dtype: float64"
      ]
     },
     "execution_count": 20,
     "metadata": {},
     "output_type": "execute_result"
    }
   ],
   "source": [
    "cars[\"low_rpm\"].head(10)"
   ]
  },
  {
   "cell_type": "code",
   "execution_count": 21,
   "id": "7f13b9ce",
   "metadata": {},
   "outputs": [
    {
     "data": {
      "text/plain": [
       "0    2000.0\n",
       "1    2500.0\n",
       "2    2700.0\n",
       "3    2750.0\n",
       "4    4500.0\n",
       "5    4000.0\n",
       "6    4500.0\n",
       "7    2500.0\n",
       "8    2400.0\n",
       "9    2000.0\n",
       "Name: high_rpm, dtype: float64"
      ]
     },
     "execution_count": 21,
     "metadata": {},
     "output_type": "execute_result"
    }
   ],
   "source": [
    "cars[\"high_rpm\"].head(10)"
   ]
  },
  {
   "cell_type": "markdown",
   "id": "7ac46992",
   "metadata": {},
   "source": [
    "## Make Test Set"
   ]
  },
  {
   "cell_type": "code",
   "execution_count": 22,
   "id": "83ec7afb",
   "metadata": {},
   "outputs": [],
   "source": [
    "np.random.seed(60)"
   ]
  },
  {
   "cell_type": "code",
   "execution_count": 23,
   "id": "4cc2c413",
   "metadata": {},
   "outputs": [],
   "source": [
    "from sklearn.model_selection import train_test_split\n",
    "\n",
    "train_set, test_set = train_test_split(cars, test_size=0.2, random_state=60)"
   ]
  },
  {
   "cell_type": "code",
   "execution_count": 24,
   "id": "ea8e668e",
   "metadata": {},
   "outputs": [
    {
     "data": {
      "text/plain": [
       "6502"
      ]
     },
     "execution_count": 24,
     "metadata": {},
     "output_type": "execute_result"
    }
   ],
   "source": [
    "len(train_set)"
   ]
  },
  {
   "cell_type": "code",
   "execution_count": 25,
   "id": "4a142569",
   "metadata": {},
   "outputs": [
    {
     "data": {
      "text/plain": [
       "1626"
      ]
     },
     "execution_count": 25,
     "metadata": {},
     "output_type": "execute_result"
    }
   ],
   "source": [
    "len(test_set)"
   ]
  },
  {
   "cell_type": "code",
   "execution_count": 26,
   "id": "d1f0efe1",
   "metadata": {},
   "outputs": [
    {
     "data": {
      "text/html": [
       "<div>\n",
       "<style scoped>\n",
       "    .dataframe tbody tr th:only-of-type {\n",
       "        vertical-align: middle;\n",
       "    }\n",
       "\n",
       "    .dataframe tbody tr th {\n",
       "        vertical-align: top;\n",
       "    }\n",
       "\n",
       "    .dataframe thead th {\n",
       "        text-align: right;\n",
       "    }\n",
       "</style>\n",
       "<table border=\"1\" class=\"dataframe\">\n",
       "  <thead>\n",
       "    <tr style=\"text-align: right;\">\n",
       "      <th></th>\n",
       "      <th>name</th>\n",
       "      <th>year</th>\n",
       "      <th>selling_price</th>\n",
       "      <th>km_driven</th>\n",
       "      <th>fuel</th>\n",
       "      <th>seller_type</th>\n",
       "      <th>transmission</th>\n",
       "      <th>owner</th>\n",
       "      <th>mileage</th>\n",
       "      <th>engine</th>\n",
       "      <th>max_power</th>\n",
       "      <th>torque</th>\n",
       "      <th>seats</th>\n",
       "      <th>nm</th>\n",
       "      <th>low_rpm</th>\n",
       "      <th>high_rpm</th>\n",
       "    </tr>\n",
       "  </thead>\n",
       "  <tbody>\n",
       "    <tr>\n",
       "      <th>6570</th>\n",
       "      <td>Honda Amaze V CVT Petrol BSIV</td>\n",
       "      <td>2019</td>\n",
       "      <td>779000</td>\n",
       "      <td>7032</td>\n",
       "      <td>Petrol</td>\n",
       "      <td>Trustmark Dealer</td>\n",
       "      <td>Automatic</td>\n",
       "      <td>First Owner</td>\n",
       "      <td>19.00</td>\n",
       "      <td>1199.0</td>\n",
       "      <td>88.76</td>\n",
       "      <td>110Nm@ 4800rpm</td>\n",
       "      <td>5.0</td>\n",
       "      <td>110.0</td>\n",
       "      <td>4800.0</td>\n",
       "      <td>4800.0</td>\n",
       "    </tr>\n",
       "    <tr>\n",
       "      <th>3142</th>\n",
       "      <td>Tata Indigo LS</td>\n",
       "      <td>2011</td>\n",
       "      <td>175000</td>\n",
       "      <td>85700</td>\n",
       "      <td>Diesel</td>\n",
       "      <td>Individual</td>\n",
       "      <td>Manual</td>\n",
       "      <td>Second Owner</td>\n",
       "      <td>17.00</td>\n",
       "      <td>1405.0</td>\n",
       "      <td>70.00</td>\n",
       "      <td>13.5@ 2,500(kgm@ rpm)</td>\n",
       "      <td>5.0</td>\n",
       "      <td>13.5</td>\n",
       "      <td>2500.0</td>\n",
       "      <td>2500.0</td>\n",
       "    </tr>\n",
       "    <tr>\n",
       "      <th>3116</th>\n",
       "      <td>Hyundai Creta 1.6 CRDi SX</td>\n",
       "      <td>2017</td>\n",
       "      <td>975000</td>\n",
       "      <td>48698</td>\n",
       "      <td>Diesel</td>\n",
       "      <td>Dealer</td>\n",
       "      <td>Manual</td>\n",
       "      <td>First Owner</td>\n",
       "      <td>19.67</td>\n",
       "      <td>1582.0</td>\n",
       "      <td>126.20</td>\n",
       "      <td>259.9Nm@ 1900-2750rpm</td>\n",
       "      <td>5.0</td>\n",
       "      <td>259.9</td>\n",
       "      <td>1900.0</td>\n",
       "      <td>2750.0</td>\n",
       "    </tr>\n",
       "    <tr>\n",
       "      <th>7357</th>\n",
       "      <td>Maruti Swift VDI BSIV</td>\n",
       "      <td>2014</td>\n",
       "      <td>495000</td>\n",
       "      <td>77215</td>\n",
       "      <td>Diesel</td>\n",
       "      <td>Individual</td>\n",
       "      <td>Manual</td>\n",
       "      <td>Second Owner</td>\n",
       "      <td>25.20</td>\n",
       "      <td>1248.0</td>\n",
       "      <td>74.00</td>\n",
       "      <td>190Nm@ 2000rpm</td>\n",
       "      <td>5.0</td>\n",
       "      <td>190.0</td>\n",
       "      <td>2000.0</td>\n",
       "      <td>2000.0</td>\n",
       "    </tr>\n",
       "    <tr>\n",
       "      <th>5163</th>\n",
       "      <td>Honda Amaze S i-Dtech</td>\n",
       "      <td>2015</td>\n",
       "      <td>365000</td>\n",
       "      <td>120000</td>\n",
       "      <td>Diesel</td>\n",
       "      <td>Individual</td>\n",
       "      <td>Manual</td>\n",
       "      <td>First Owner</td>\n",
       "      <td>25.80</td>\n",
       "      <td>1498.0</td>\n",
       "      <td>98.60</td>\n",
       "      <td>200Nm@ 1750rpm</td>\n",
       "      <td>5.0</td>\n",
       "      <td>200.0</td>\n",
       "      <td>1750.0</td>\n",
       "      <td>1750.0</td>\n",
       "    </tr>\n",
       "  </tbody>\n",
       "</table>\n",
       "</div>"
      ],
      "text/plain": [
       "                               name  year  selling_price  km_driven    fuel  \\\n",
       "6570  Honda Amaze V CVT Petrol BSIV  2019         779000       7032  Petrol   \n",
       "3142                 Tata Indigo LS  2011         175000      85700  Diesel   \n",
       "3116      Hyundai Creta 1.6 CRDi SX  2017         975000      48698  Diesel   \n",
       "7357          Maruti Swift VDI BSIV  2014         495000      77215  Diesel   \n",
       "5163          Honda Amaze S i-Dtech  2015         365000     120000  Diesel   \n",
       "\n",
       "           seller_type transmission         owner  mileage  engine  max_power  \\\n",
       "6570  Trustmark Dealer    Automatic   First Owner    19.00  1199.0      88.76   \n",
       "3142        Individual       Manual  Second Owner    17.00  1405.0      70.00   \n",
       "3116            Dealer       Manual   First Owner    19.67  1582.0     126.20   \n",
       "7357        Individual       Manual  Second Owner    25.20  1248.0      74.00   \n",
       "5163        Individual       Manual   First Owner    25.80  1498.0      98.60   \n",
       "\n",
       "                     torque  seats     nm  low_rpm  high_rpm  \n",
       "6570         110Nm@ 4800rpm    5.0  110.0   4800.0    4800.0  \n",
       "3142  13.5@ 2,500(kgm@ rpm)    5.0   13.5   2500.0    2500.0  \n",
       "3116  259.9Nm@ 1900-2750rpm    5.0  259.9   1900.0    2750.0  \n",
       "7357         190Nm@ 2000rpm    5.0  190.0   2000.0    2000.0  \n",
       "5163         200Nm@ 1750rpm    5.0  200.0   1750.0    1750.0  "
      ]
     },
     "execution_count": 26,
     "metadata": {},
     "output_type": "execute_result"
    }
   ],
   "source": [
    "test_set.head()"
   ]
  },
  {
   "cell_type": "markdown",
   "id": "9bdb49f9",
   "metadata": {},
   "source": [
    "## Exploring The Data"
   ]
  },
  {
   "cell_type": "code",
   "execution_count": 27,
   "id": "9f784f91",
   "metadata": {},
   "outputs": [],
   "source": [
    "cars = train_set.copy()"
   ]
  },
  {
   "cell_type": "code",
   "execution_count": 28,
   "id": "a4e2741d",
   "metadata": {
    "scrolled": true
   },
   "outputs": [
    {
     "data": {
      "text/plain": [
       "<AxesSubplot:xlabel='year', ylabel='km_driven'>"
      ]
     },
     "execution_count": 28,
     "metadata": {},
     "output_type": "execute_result"
    },
    {
     "data": {
      "image/png": "[encoded data removed]",
      "text/plain": [
       "<Figure size 432x288 with 1 Axes>"
      ]
     },
     "metadata": {
      "needs_background": "light"
     },
     "output_type": "display_data"
    }
   ],
   "source": [
    "cars.plot(kind=\"scatter\", x=\"year\", y=\"km_driven\", alpha=0.1)"
   ]
  },
  {
   "cell_type": "code",
   "execution_count": 29,
   "id": "2d19e26b",
   "metadata": {},
   "outputs": [
    {
     "name": "stdout",
     "output_type": "stream",
     "text": [
      "<class 'pandas.core.frame.DataFrame'>\n",
      "Int64Index: 6502 entries, 6439 to 2253\n",
      "Data columns (total 16 columns):\n",
      " #   Column         Non-Null Count  Dtype  \n",
      "---  ------         --------------  -----  \n",
      " 0   name           6502 non-null   object \n",
      " 1   year           6502 non-null   int64  \n",
      " 2   selling_price  6502 non-null   int64  \n",
      " 3   km_driven      6502 non-null   int64  \n",
      " 4   fuel           6502 non-null   object \n",
      " 5   seller_type    6502 non-null   object \n",
      " 6   transmission   6502 non-null   object \n",
      " 7   owner          6502 non-null   object \n",
      " 8   mileage        6322 non-null   float64\n",
      " 9   engine         6322 non-null   float64\n",
      " 10  max_power      6321 non-null   float64\n",
      " 11  torque         6321 non-null   object \n",
      " 12  seats          6322 non-null   float64\n",
      " 13  nm             6321 non-null   float64\n",
      " 14  low_rpm        6321 non-null   float64\n",
      " 15  high_rpm       6321 non-null   float64\n",
      "dtypes: float64(7), int64(3), object(6)\n",
      "memory usage: 711.2+ KB\n"
     ]
    }
   ],
   "source": [
    "cars.info()"
   ]
  },
  {
   "cell_type": "code",
   "execution_count": 30,
   "id": "eeae5632",
   "metadata": {},
   "outputs": [],
   "source": [
    "corr_matrix = cars.corr()"
   ]
  },
  {
   "cell_type": "code",
   "execution_count": 31,
   "id": "8332a48b",
   "metadata": {},
   "outputs": [
    {
     "data": {
      "text/plain": [
       "selling_price    1.000000\n",
       "max_power        0.748896\n",
       "nm               0.614753\n",
       "engine           0.454706\n",
       "year             0.414817\n",
       "seats            0.036164\n",
       "high_rpm        -0.072488\n",
       "mileage         -0.125455\n",
       "low_rpm         -0.222578\n",
       "km_driven       -0.230323\n",
       "Name: selling_price, dtype: float64"
      ]
     },
     "execution_count": 31,
     "metadata": {},
     "output_type": "execute_result"
    }
   ],
   "source": [
    "corr_matrix[\"selling_price\"].sort_values(ascending=False)"
   ]
  },
  {
   "cell_type": "markdown",
   "id": "09d85ba7",
   "metadata": {},
   "source": [
    "## Dealing with Text and Category Attributes"
   ]
  },
  {
   "cell_type": "code",
   "execution_count": 32,
   "id": "4852e410",
   "metadata": {},
   "outputs": [],
   "source": [
    "fuel_cat = cars[[\"fuel\"]]\n",
    "seller_type_cat = cars[[\"seller_type\"]]\n",
    "transmission_cat = cars[[\"transmission\"]]\n",
    "owner_cat = cars[[\"owner\"]]"
   ]
  },
  {
   "cell_type": "code",
   "execution_count": 33,
   "id": "c53228c3",
   "metadata": {},
   "outputs": [],
   "source": [
    "from sklearn.preprocessing import OrdinalEncoder\n",
    "\n",
    "fuel_ordinal_encoder = OrdinalEncoder()\n",
    "fuel_cat_encoded = fuel_ordinal_encoder.fit_transform(fuel_cat)\n",
    "\n",
    "seller_type_ordinal_encoder = OrdinalEncoder()\n",
    "seller_type_cat_encoded = seller_type_ordinal_encoder.fit_transform(seller_type_cat)\n",
    "\n",
    "transmission_ordinal_encoder = OrdinalEncoder()\n",
    "transmission_cat_encoded = transmission_ordinal_encoder.fit_transform(transmission_cat)\n",
    "\n",
    "owner_ordinal_encoder = OrdinalEncoder()\n",
    "owner_cat_encoded = owner_ordinal_encoder.fit_transform(owner_cat)"
   ]
  },
  {
   "cell_type": "code",
   "execution_count": 34,
   "id": "7197997b",
   "metadata": {},
   "outputs": [
    {
     "data": {
      "text/plain": [
       "array([[1.],\n",
       "       [1.],\n",
       "       [1.],\n",
       "       [1.],\n",
       "       [3.],\n",
       "       [3.],\n",
       "       [1.],\n",
       "       [1.],\n",
       "       [3.],\n",
       "       [3.]])"
      ]
     },
     "execution_count": 34,
     "metadata": {},
     "output_type": "execute_result"
    }
   ],
   "source": [
    "fuel_cat_encoded[:10]"
   ]
  },
  {
   "cell_type": "code",
   "execution_count": 35,
   "id": "22e0b695",
   "metadata": {},
   "outputs": [
    {
     "data": {
      "text/plain": [
       "[array(['CNG', 'Diesel', 'LPG', 'Petrol'], dtype=object)]"
      ]
     },
     "execution_count": 35,
     "metadata": {},
     "output_type": "execute_result"
    }
   ],
   "source": [
    "fuel_ordinal_encoder.categories_"
   ]
  },
  {
   "cell_type": "markdown",
   "id": "c18e9b61",
   "metadata": {},
   "source": [
    "## Prepare Data for Machine Learning"
   ]
  },
  {
   "cell_type": "code",
   "execution_count": 36,
   "id": "0a45e8cb",
   "metadata": {},
   "outputs": [
    {
     "name": "stdout",
     "output_type": "stream",
     "text": [
      "<class 'pandas.core.frame.DataFrame'>\n",
      "Int64Index: 6502 entries, 6439 to 2253\n",
      "Data columns (total 16 columns):\n",
      " #   Column         Non-Null Count  Dtype  \n",
      "---  ------         --------------  -----  \n",
      " 0   name           6502 non-null   object \n",
      " 1   year           6502 non-null   int64  \n",
      " 2   selling_price  6502 non-null   int64  \n",
      " 3   km_driven      6502 non-null   int64  \n",
      " 4   fuel           6502 non-null   object \n",
      " 5   seller_type    6502 non-null   object \n",
      " 6   transmission   6502 non-null   object \n",
      " 7   owner          6502 non-null   object \n",
      " 8   mileage        6322 non-null   float64\n",
      " 9   engine         6322 non-null   float64\n",
      " 10  max_power      6321 non-null   float64\n",
      " 11  torque         6321 non-null   object \n",
      " 12  seats          6322 non-null   float64\n",
      " 13  nm             6321 non-null   float64\n",
      " 14  low_rpm        6321 non-null   float64\n",
      " 15  high_rpm       6321 non-null   float64\n",
      "dtypes: float64(7), int64(3), object(6)\n",
      "memory usage: 711.2+ KB\n"
     ]
    }
   ],
   "source": [
    "cars.info()"
   ]
  },
  {
   "cell_type": "code",
   "execution_count": 37,
   "id": "f1cde4b7",
   "metadata": {},
   "outputs": [],
   "source": [
    "# Object Columns\n",
    "fuel = cars[\"fuel\"]\n",
    "seller_type = cars[\"seller_type\"]\n",
    "transmission = cars[\"transmission\"]\n",
    "owner = cars[\"owner\"]\n",
    "torque = cars[\"torque\"]"
   ]
  },
  {
   "cell_type": "code",
   "execution_count": 38,
   "id": "0d5980e6",
   "metadata": {},
   "outputs": [],
   "source": [
    "cars_no_labels = cars.drop(\"selling_price\", axis=1)\n",
    "cars_labels = cars[\"selling_price\"].copy()"
   ]
  },
  {
   "cell_type": "code",
   "execution_count": 39,
   "id": "cfddf45f",
   "metadata": {},
   "outputs": [],
   "source": [
    "from sklearn.impute import SimpleImputer\n",
    "imputer = SimpleImputer(strategy=\"median\")"
   ]
  },
  {
   "cell_type": "code",
   "execution_count": 40,
   "id": "ee828316",
   "metadata": {},
   "outputs": [
    {
     "name": "stdout",
     "output_type": "stream",
     "text": [
      "<class 'pandas.core.frame.DataFrame'>\n",
      "Int64Index: 6502 entries, 6439 to 2253\n",
      "Data columns (total 9 columns):\n",
      " #   Column     Non-Null Count  Dtype  \n",
      "---  ------     --------------  -----  \n",
      " 0   year       6502 non-null   int64  \n",
      " 1   km_driven  6502 non-null   int64  \n",
      " 2   mileage    6322 non-null   float64\n",
      " 3   engine     6322 non-null   float64\n",
      " 4   max_power  6321 non-null   float64\n",
      " 5   seats      6322 non-null   float64\n",
      " 6   nm         6321 non-null   float64\n",
      " 7   low_rpm    6321 non-null   float64\n",
      " 8   high_rpm   6321 non-null   float64\n",
      "dtypes: float64(7), int64(2)\n",
      "memory usage: 508.0 KB\n"
     ]
    }
   ],
   "source": [
    "cars_num = cars_no_labels.drop(\"fuel\", axis=1)\n",
    "cars_num = cars_num.drop(\"name\", axis=1)\n",
    "cars_num = cars_num.drop(\"seller_type\", axis=1)\n",
    "cars_num = cars_num.drop(\"transmission\", axis=1)\n",
    "cars_num = cars_num.drop(\"owner\", axis=1)\n",
    "cars_num = cars_num.drop(\"torque\", axis=1)\n",
    "cars_num.info()"
   ]
  },
  {
   "cell_type": "code",
   "execution_count": 41,
   "id": "5885ce7f",
   "metadata": {},
   "outputs": [
    {
     "data": {
      "text/plain": [
       "SimpleImputer(strategy='median')"
      ]
     },
     "execution_count": 41,
     "metadata": {},
     "output_type": "execute_result"
    }
   ],
   "source": [
    "imputer.fit(cars_num)"
   ]
  },
  {
   "cell_type": "code",
   "execution_count": 42,
   "id": "29cb6507",
   "metadata": {},
   "outputs": [],
   "source": [
    "X = imputer.transform(cars_num)"
   ]
  },
  {
   "cell_type": "code",
   "execution_count": 43,
   "id": "f58ab620",
   "metadata": {},
   "outputs": [],
   "source": [
    "housing_tr = pd.DataFrame(X, columns=cars_num.columns,\n",
    "                          index=cars_no_labels.index)"
   ]
  },
  {
   "cell_type": "code",
   "execution_count": 44,
   "id": "1c2a7461",
   "metadata": {},
   "outputs": [
    {
     "name": "stdout",
     "output_type": "stream",
     "text": [
      "<class 'pandas.core.frame.DataFrame'>\n",
      "Int64Index: 6502 entries, 6439 to 2253\n",
      "Data columns (total 9 columns):\n",
      " #   Column     Non-Null Count  Dtype  \n",
      "---  ------     --------------  -----  \n",
      " 0   year       6502 non-null   float64\n",
      " 1   km_driven  6502 non-null   float64\n",
      " 2   mileage    6502 non-null   float64\n",
      " 3   engine     6502 non-null   float64\n",
      " 4   max_power  6502 non-null   float64\n",
      " 5   seats      6502 non-null   float64\n",
      " 6   nm         6502 non-null   float64\n",
      " 7   low_rpm    6502 non-null   float64\n",
      " 8   high_rpm   6502 non-null   float64\n",
      "dtypes: float64(9)\n",
      "memory usage: 508.0 KB\n"
     ]
    }
   ],
   "source": [
    "housing_tr.info()"
   ]
  },
  {
   "cell_type": "code",
   "execution_count": 45,
   "id": "670710a9",
   "metadata": {},
   "outputs": [],
   "source": [
    "from sklearn.pipeline import Pipeline\n",
    "from sklearn.preprocessing import StandardScaler\n",
    "\n",
    "num_pipeline = Pipeline([\n",
    "        ('imputer', SimpleImputer(strategy=\"median\")),\n",
    "        ('std_scaler', StandardScaler()),\n",
    "])\n",
    "\n",
    "cars_tr = num_pipeline.fit_transform(cars_num)"
   ]
  },
  {
   "cell_type": "code",
   "execution_count": 46,
   "id": "6181d4b2",
   "metadata": {},
   "outputs": [
    {
     "data": {
      "text/plain": [
       "array([[-1.91387993e-01,  1.14060428e-03, -8.44122680e-01, ...,\n",
       "         2.79996550e-01, -1.14221265e+00, -9.62750851e-01],\n",
       "       [ 1.04167258e+00, -3.36947379e-01,  1.33843699e+00, ...,\n",
       "         3.31789858e-01, -8.27376412e-01, -1.46092146e+00],\n",
       "       [-4.38000107e-01,  1.14060428e-03,  6.14896967e-01, ...,\n",
       "         1.24616626e-01, -6.02493384e-01, -1.18416001e+00],\n",
       "       ...,\n",
       "       [ 5.48448350e-01, -1.76800440e-01, -2.39978702e-01, ...,\n",
       "         7.46136321e-01, -9.62306230e-01, -2.98523365e-01],\n",
       "       [ 1.04167258e+00,  3.57022692e-01,  9.77860939e-01, ...,\n",
       "         2.10300107e-02, -7.82399807e-01, -7.41341689e-01],\n",
       "       [-1.67106068e+00, -1.76800440e-01, -3.93933491e-02, ...,\n",
       "        -1.35385779e-01, -6.02493384e-01, -7.71142027e-02]])"
      ]
     },
     "execution_count": 46,
     "metadata": {},
     "output_type": "execute_result"
    }
   ],
   "source": [
    "cars_tr"
   ]
  },
  {
   "cell_type": "code",
   "execution_count": 47,
   "id": "3afaf405",
   "metadata": {},
   "outputs": [],
   "source": [
    "from sklearn.compose import ColumnTransformer\n",
    "from sklearn.preprocessing import OneHotEncoder\n",
    "\n",
    "num_attribs = list(cars_num)\n",
    "cat_attribs = [\"fuel\", \"seller_type\", \"transmission\", \"owner\", \"torque\"]\n",
    "\n",
    "full_pipeline = ColumnTransformer([\n",
    "        (\"num\", num_pipeline, num_attribs),\n",
    "        (\"cat\", OneHotEncoder(), cat_attribs),\n",
    "    ])\n",
    "\n",
    "cars_prepared = full_pipeline.fit_transform(cars)"
   ]
  },
  {
   "cell_type": "code",
   "execution_count": 85,
   "id": "419ad4b7",
   "metadata": {},
   "outputs": [
    {
     "data": {
      "text/plain": [
       "<6502x448 sparse matrix of type '<class 'numpy.float64'>'\n",
       "\twith 91028 stored elements in Compressed Sparse Row format>"
      ]
     },
     "execution_count": 85,
     "metadata": {},
     "output_type": "execute_result"
    }
   ],
   "source": [
    "cars_prepared"
   ]
  },
  {
   "cell_type": "markdown",
   "id": "325f55b5",
   "metadata": {},
   "source": [
    "## Select and Train a Model"
   ]
  },
  {
   "cell_type": "code",
   "execution_count": 49,
   "id": "63c7037a",
   "metadata": {},
   "outputs": [
    {
     "data": {
      "text/plain": [
       "LinearRegression()"
      ]
     },
     "execution_count": 49,
     "metadata": {},
     "output_type": "execute_result"
    }
   ],
   "source": [
    "from sklearn.linear_model import LinearRegression\n",
    "\n",
    "lin_reg = LinearRegression()\n",
    "lin_reg.fit(cars_prepared, cars_labels)"
   ]
  },
  {
   "cell_type": "code",
   "execution_count": 50,
   "id": "e4b29fea",
   "metadata": {},
   "outputs": [
    {
     "name": "stdout",
     "output_type": "stream",
     "text": [
      "Predictions: [366933.86009412 701458.09115139 301093.73631711 534287.71693099\n",
      " 494996.03239116]\n"
     ]
    }
   ],
   "source": [
    "some_data = cars.iloc[:5]\n",
    "some_labels = cars_labels.iloc[:5]\n",
    "some_data_prepared = full_pipeline.transform(some_data)\n",
    "\n",
    "print(\"Predictions:\", lin_reg.predict(some_data_prepared))"
   ]
  },
  {
   "cell_type": "code",
   "execution_count": 51,
   "id": "05134610",
   "metadata": {},
   "outputs": [
    {
     "name": "stdout",
     "output_type": "stream",
     "text": [
      "Labels: [450000, 950000, 229999, 615000, 465000]\n"
     ]
    }
   ],
   "source": [
    "print(\"Labels:\", list(some_labels))"
   ]
  },
  {
   "cell_type": "code",
   "execution_count": 53,
   "id": "23ccb394",
   "metadata": {},
   "outputs": [
    {
     "data": {
      "text/plain": [
       "185972.87839754153"
      ]
     },
     "execution_count": 53,
     "metadata": {},
     "output_type": "execute_result"
    }
   ],
   "source": [
    "from sklearn.metrics import mean_squared_error\n",
    "\n",
    "cars_predictions = lin_reg.predict(cars_prepared)\n",
    "lin_mse = mean_squared_error(cars_labels, cars_predictions)\n",
    "lin_rmse = np.sqrt(lin_mse)\n",
    "lin_rmse"
   ]
  },
  {
   "cell_type": "code",
   "execution_count": 54,
   "id": "b572b17a",
   "metadata": {},
   "outputs": [
    {
     "data": {
      "text/plain": [
       "DecisionTreeRegressor(random_state=42)"
      ]
     },
     "execution_count": 54,
     "metadata": {},
     "output_type": "execute_result"
    }
   ],
   "source": [
    "from sklearn.tree import DecisionTreeRegressor\n",
    "\n",
    "tree_reg = DecisionTreeRegressor(random_state=42)\n",
    "tree_reg.fit(cars_prepared, cars_labels)"
   ]
  },
  {
   "cell_type": "code",
   "execution_count": 55,
   "id": "99519016",
   "metadata": {},
   "outputs": [
    {
     "data": {
      "text/plain": [
       "15180.664045262787"
      ]
     },
     "execution_count": 55,
     "metadata": {},
     "output_type": "execute_result"
    }
   ],
   "source": [
    "cars_predictions = tree_reg.predict(cars_prepared)\n",
    "tree_mse = mean_squared_error(cars_labels, cars_predictions)\n",
    "tree_rmse = np.sqrt(tree_mse)\n",
    "tree_rmse"
   ]
  },
  {
   "cell_type": "code",
   "execution_count": 56,
   "id": "a5e739bb",
   "metadata": {},
   "outputs": [],
   "source": [
    "from sklearn.model_selection import cross_val_score\n",
    "\n",
    "scores = cross_val_score(tree_reg, cars_prepared, cars_labels,\n",
    "                         scoring=\"neg_mean_squared_error\", cv=10)\n",
    "# Randomly splits array into 10 distinct subsets (aka 'folds')\n",
    "# Then trains 10 times, picking a different fold for evaluation each time\n",
    "# Uses other 9 folds for training\n",
    "# Result is an array of 10 evaluation scores\n",
    "tree_rmse_scores = np.sqrt(-scores)"
   ]
  },
  {
   "cell_type": "code",
   "execution_count": 57,
   "id": "b036958a",
   "metadata": {},
   "outputs": [
    {
     "name": "stdout",
     "output_type": "stream",
     "text": [
      "Scores: [159660.62353199 212778.5327508  236691.347547   187183.28783707\n",
      " 148171.31681648 157364.97023217 127302.62970243 152589.24630808\n",
      " 139232.42411423 170769.15495399]\n",
      "Mean: 169174.35337942382\n",
      "Standard deviation: 32222.13579451591\n"
     ]
    }
   ],
   "source": [
    "def display_scores(scores):\n",
    "    print(\"Scores:\", scores)\n",
    "    print(\"Mean:\", scores.mean())\n",
    "    print(\"Standard deviation:\", scores.std())\n",
    "\n",
    "display_scores(tree_rmse_scores)"
   ]
  },
  {
   "cell_type": "markdown",
   "id": "b5be9216",
   "metadata": {},
   "source": [
    "tree_reg: 169,174 +- 32,222"
   ]
  },
  {
   "cell_type": "code",
   "execution_count": 58,
   "id": "f8a38f9c",
   "metadata": {},
   "outputs": [
    {
     "name": "stdout",
     "output_type": "stream",
     "text": [
      "Scores: [289623.02597171 360908.00559102 241092.43058103 306791.91749787\n",
      " 347189.67642304 216727.46648769 280904.65938225 282393.87655694\n",
      " 312636.36022742 349518.68685454]\n",
      "Mean: 298778.6105573507\n",
      "Standard deviation: 44459.359704754206\n"
     ]
    }
   ],
   "source": [
    "lin_scores = cross_val_score(lin_reg, cars_prepared, cars_labels,\n",
    "                             scoring=\"neg_mean_squared_error\", cv=10)\n",
    "lin_rmse_scores = np.sqrt(-lin_scores)\n",
    "display_scores(lin_rmse_scores)"
   ]
  },
  {
   "cell_type": "markdown",
   "id": "887d07b2",
   "metadata": {},
   "source": [
    "len_reg = 289,778 +- 44,459"
   ]
  },
  {
   "cell_type": "code",
   "execution_count": 59,
   "id": "3252319c",
   "metadata": {},
   "outputs": [
    {
     "data": {
      "text/plain": [
       "RandomForestRegressor(random_state=42)"
      ]
     },
     "execution_count": 59,
     "metadata": {},
     "output_type": "execute_result"
    }
   ],
   "source": [
    "from sklearn.ensemble import RandomForestRegressor\n",
    "\n",
    "forest_reg = RandomForestRegressor(n_estimators=100, random_state=42)\n",
    "forest_reg.fit(cars_prepared, cars_labels)"
   ]
  },
  {
   "cell_type": "code",
   "execution_count": 60,
   "id": "12461b5d",
   "metadata": {},
   "outputs": [
    {
     "data": {
      "text/plain": [
       "53846.71667746088"
      ]
     },
     "execution_count": 60,
     "metadata": {},
     "output_type": "execute_result"
    }
   ],
   "source": [
    "cars_predictions = forest_reg.predict(cars_prepared)\n",
    "forest_mse = mean_squared_error(cars_labels, cars_predictions)\n",
    "forest_rmse = np.sqrt(forest_mse)\n",
    "forest_rmse"
   ]
  },
  {
   "cell_type": "code",
   "execution_count": 61,
   "id": "b5804cc9",
   "metadata": {},
   "outputs": [
    {
     "name": "stdout",
     "output_type": "stream",
     "text": [
      "Scores: [131919.72418032 133929.98081781 246702.03564335 142216.29911451\n",
      " 107677.12480479 155988.18668169 103934.45773723 159832.49560481\n",
      " 147141.99065611 134691.03535118]\n",
      "Mean: 146403.33305917945\n",
      "Standard deviation: 37624.43404328633\n"
     ]
    }
   ],
   "source": [
    "from sklearn.model_selection import cross_val_score\n",
    "\n",
    "forest_scores = cross_val_score(forest_reg, cars_prepared, cars_labels,\n",
    "                                scoring=\"neg_mean_squared_error\", cv=10)\n",
    "forest_rmse_scores = np.sqrt(-forest_scores)\n",
    "display_scores(forest_rmse_scores)"
   ]
  },
  {
   "cell_type": "markdown",
   "id": "1c36be40",
   "metadata": {},
   "source": [
    "forest: 145,403 +- 37,624"
   ]
  },
  {
   "cell_type": "markdown",
   "id": "e14f8934",
   "metadata": {},
   "source": [
    "## Fine-Tune Model"
   ]
  },
  {
   "cell_type": "code",
   "execution_count": 73,
   "id": "0f5593be",
   "metadata": {},
   "outputs": [
    {
     "data": {
      "text/plain": [
       "GridSearchCV(cv=5, estimator=RandomForestRegressor(random_state=42),\n",
       "             param_grid=[{'max_features': [2, 4, 6, 8, 10],\n",
       "                          'n_estimators': [20, 30, 40, 50]},\n",
       "                         {'bootstrap': [False],\n",
       "                          'max_features': [2, 4, 6, 8, 10],\n",
       "                          'n_estimators': [20, 30, 40, 50]}],\n",
       "             return_train_score=True, scoring='neg_mean_squared_error')"
      ]
     },
     "execution_count": 73,
     "metadata": {},
     "output_type": "execute_result"
    }
   ],
   "source": [
    "from sklearn.model_selection import GridSearchCV\n",
    "\n",
    "param_grid = [\n",
    "    # try 12 (3×4) combinations of hyperparameters\n",
    "    {'n_estimators': [20, 30, 40, 50], 'max_features': [2, 4, 6, 8, 10]},\n",
    "    # then try 6 (2×3) combinations with bootstrap set as False\n",
    "    {'bootstrap': [False], 'n_estimators': [20, 30, 40, 50], 'max_features': [2, 4, 6, 8, 10]},\n",
    "  ]\n",
    "\n",
    "forest_reg = RandomForestRegressor(random_state=42)\n",
    "# train across 5 folds, that's a total of (12+6)*5=90 rounds of training \n",
    "grid_search = GridSearchCV(forest_reg, param_grid, cv=5,\n",
    "                           scoring='neg_mean_squared_error',\n",
    "                           return_train_score=True)\n",
    "grid_search.fit(cars_prepared, cars_labels)"
   ]
  },
  {
   "cell_type": "code",
   "execution_count": 74,
   "id": "ec732770",
   "metadata": {},
   "outputs": [
    {
     "data": {
      "text/plain": [
       "{'bootstrap': False, 'max_features': 4, 'n_estimators': 30}"
      ]
     },
     "execution_count": 74,
     "metadata": {},
     "output_type": "execute_result"
    }
   ],
   "source": [
    "grid_search.best_params_"
   ]
  },
  {
   "cell_type": "code",
   "execution_count": 75,
   "id": "8f563abe",
   "metadata": {
    "scrolled": true
   },
   "outputs": [
    {
     "data": {
      "text/plain": [
       "RandomForestRegressor(bootstrap=False, max_features=4, n_estimators=30,\n",
       "                      random_state=42)"
      ]
     },
     "execution_count": 75,
     "metadata": {},
     "output_type": "execute_result"
    }
   ],
   "source": [
    "grid_search.best_estimator_"
   ]
  },
  {
   "cell_type": "code",
   "execution_count": 76,
   "id": "74c582ca",
   "metadata": {},
   "outputs": [
    {
     "name": "stdout",
     "output_type": "stream",
     "text": [
      "201313.6247925995 {'max_features': 2, 'n_estimators': 20}\n",
      "200207.96761414074 {'max_features': 2, 'n_estimators': 30}\n",
      "196475.30734833752 {'max_features': 2, 'n_estimators': 40}\n",
      "195900.96645866704 {'max_features': 2, 'n_estimators': 50}\n",
      "196082.4095589247 {'max_features': 4, 'n_estimators': 20}\n",
      "191791.19351855884 {'max_features': 4, 'n_estimators': 30}\n",
      "191483.35917757935 {'max_features': 4, 'n_estimators': 40}\n",
      "193697.09664514894 {'max_features': 4, 'n_estimators': 50}\n",
      "197905.51084318073 {'max_features': 6, 'n_estimators': 20}\n",
      "198704.40343481986 {'max_features': 6, 'n_estimators': 30}\n",
      "199147.9876766807 {'max_features': 6, 'n_estimators': 40}\n",
      "198845.76612843902 {'max_features': 6, 'n_estimators': 50}\n",
      "198736.85262607023 {'max_features': 8, 'n_estimators': 20}\n",
      "197778.7959345117 {'max_features': 8, 'n_estimators': 30}\n",
      "196518.9078192155 {'max_features': 8, 'n_estimators': 40}\n",
      "193615.10629141371 {'max_features': 8, 'n_estimators': 50}\n",
      "195478.48641205629 {'max_features': 10, 'n_estimators': 20}\n",
      "194717.97012497298 {'max_features': 10, 'n_estimators': 30}\n",
      "196606.52732882064 {'max_features': 10, 'n_estimators': 40}\n",
      "195520.56691453405 {'max_features': 10, 'n_estimators': 50}\n",
      "190344.2683019559 {'bootstrap': False, 'max_features': 2, 'n_estimators': 20}\n",
      "187482.76274207886 {'bootstrap': False, 'max_features': 2, 'n_estimators': 30}\n",
      "189463.48096495974 {'bootstrap': False, 'max_features': 2, 'n_estimators': 40}\n",
      "190523.10620831797 {'bootstrap': False, 'max_features': 2, 'n_estimators': 50}\n",
      "181292.98966544296 {'bootstrap': False, 'max_features': 4, 'n_estimators': 20}\n",
      "179620.66265922095 {'bootstrap': False, 'max_features': 4, 'n_estimators': 30}\n",
      "183204.52708504978 {'bootstrap': False, 'max_features': 4, 'n_estimators': 40}\n",
      "185501.87977045975 {'bootstrap': False, 'max_features': 4, 'n_estimators': 50}\n",
      "197130.6385089094 {'bootstrap': False, 'max_features': 6, 'n_estimators': 20}\n",
      "191888.3084123525 {'bootstrap': False, 'max_features': 6, 'n_estimators': 30}\n",
      "193981.34522114485 {'bootstrap': False, 'max_features': 6, 'n_estimators': 40}\n",
      "192496.79752354958 {'bootstrap': False, 'max_features': 6, 'n_estimators': 50}\n",
      "187977.15400326808 {'bootstrap': False, 'max_features': 8, 'n_estimators': 20}\n",
      "187160.36216317935 {'bootstrap': False, 'max_features': 8, 'n_estimators': 30}\n",
      "186899.66569280985 {'bootstrap': False, 'max_features': 8, 'n_estimators': 40}\n",
      "187293.75732817865 {'bootstrap': False, 'max_features': 8, 'n_estimators': 50}\n",
      "188510.1198148165 {'bootstrap': False, 'max_features': 10, 'n_estimators': 20}\n",
      "184546.27028949634 {'bootstrap': False, 'max_features': 10, 'n_estimators': 30}\n",
      "182863.79091379905 {'bootstrap': False, 'max_features': 10, 'n_estimators': 40}\n",
      "184288.19294272314 {'bootstrap': False, 'max_features': 10, 'n_estimators': 50}\n"
     ]
    }
   ],
   "source": [
    "cvres = grid_search.cv_results_\n",
    "for mean_score, params in zip(cvres[\"mean_test_score\"], cvres[\"params\"]):\n",
    "    print(np.sqrt(-mean_score), params)"
   ]
  },
  {
   "cell_type": "code",
   "execution_count": 77,
   "id": "eaf2ac09",
   "metadata": {},
   "outputs": [
    {
     "data": {
      "text/plain": [
       "RandomizedSearchCV(cv=5, estimator=RandomForestRegressor(random_state=42),\n",
       "                   param_distributions={'max_features': <scipy.stats._distn_infrastructure.rv_frozen object at 0x1DFC2AF0>,\n",
       "                                        'n_estimators': <scipy.stats._distn_infrastructure.rv_frozen object at 0x1DFC25B0>},\n",
       "                   random_state=42, scoring='neg_mean_squared_error')"
      ]
     },
     "execution_count": 77,
     "metadata": {},
     "output_type": "execute_result"
    }
   ],
   "source": [
    "from sklearn.model_selection import RandomizedSearchCV\n",
    "from scipy.stats import randint\n",
    "\n",
    "param_distribs = {\n",
    "        'n_estimators': randint(low=1, high=200),\n",
    "        'max_features': randint(low=1, high=8),\n",
    "    }\n",
    "\n",
    "forest_reg = RandomForestRegressor(random_state=42)\n",
    "rnd_search = RandomizedSearchCV(forest_reg, param_distributions=param_distribs,\n",
    "                                n_iter=10, cv=5, scoring='neg_mean_squared_error', random_state=42)\n",
    "rnd_search.fit(cars_prepared, cars_labels)"
   ]
  },
  {
   "cell_type": "code",
   "execution_count": 78,
   "id": "85463058",
   "metadata": {},
   "outputs": [
    {
     "data": {
      "text/plain": [
       "array([5.23464076e-02, 5.87615217e-02, 5.28707101e-02, 5.40819919e-02,\n",
       "       1.42260260e-01, 6.05603953e-03, 1.37573855e-01, 4.16668020e-02,\n",
       "       2.60016434e-02, 9.34601947e-05, 1.57240674e-02, 9.20020311e-05,\n",
       "       1.06670232e-02, 1.84210927e-02, 1.52944906e-02, 3.47115203e-03,\n",
       "       6.32195510e-02, 7.85601186e-02, 1.02498914e-02, 9.26170392e-04,\n",
       "       5.44219150e-03, 5.68464228e-03, 2.41435699e-03, 4.37723173e-06,\n",
       "       2.15051198e-05, 8.80790694e-06, 4.01855015e-06, 1.99161131e-04,\n",
       "       1.52807094e-05, 4.36679220e-05, 1.80435303e-05, 2.31238119e-05,\n",
       "       2.64645079e-04, 3.55876632e-05, 3.04076414e-05, 2.31265357e-05,\n",
       "       3.00051357e-05, 5.20893494e-05, 9.51933190e-05, 1.33305669e-05,\n",
       "       5.57211415e-05, 3.92319064e-05, 1.83486140e-05, 3.74390751e-05,\n",
       "       3.10451409e-06, 1.97711916e-06, 1.34215398e-05, 2.10764473e-05,\n",
       "       6.74465220e-07, 8.25131579e-06, 2.50998213e-05, 9.34853746e-04,\n",
       "       1.02255915e-04, 7.83006773e-04, 2.85503938e-05, 7.03181917e-05,\n",
       "       3.42544063e-04, 2.93946448e-05, 1.17342526e-06, 5.27301586e-06,\n",
       "       6.13431984e-06, 9.98802970e-04, 1.44161416e-04, 1.58114281e-05,\n",
       "       2.24252371e-06, 5.28763916e-05, 7.47316113e-05, 1.60540751e-04,\n",
       "       1.01500702e-04, 4.21442262e-04, 2.85676199e-05, 1.10549838e-05,\n",
       "       4.73937814e-05, 8.44797367e-05, 2.39785576e-04, 2.47863613e-05,\n",
       "       5.18841483e-05, 1.74385378e-04, 2.51466443e-06, 3.83044853e-06,\n",
       "       1.05377548e-05, 7.73846187e-05, 6.77407572e-05, 1.35992702e-04,\n",
       "       8.59936867e-06, 4.96487787e-05, 8.08239108e-05, 8.57560765e-06,\n",
       "       1.63072071e-05, 2.31803020e-05, 1.28987887e-06, 2.82274125e-05,\n",
       "       4.88093794e-06, 1.33027343e-06, 1.22771795e-05, 4.23749948e-05,\n",
       "       1.88906326e-04, 2.98023757e-06, 3.96149299e-05, 1.10091095e-05,\n",
       "       1.64678258e-04, 8.74726470e-06, 5.15107256e-06, 2.45000454e-04,\n",
       "       2.12047697e-05, 4.39708364e-05, 6.90504910e-07, 1.07932790e-05,\n",
       "       1.22304468e-05, 7.05816689e-05, 2.26099873e-04, 1.07478112e-05,\n",
       "       1.82385142e-04, 4.16392632e-05, 4.82153380e-05, 4.93890480e-05,\n",
       "       2.20833664e-05, 3.26773879e-06, 1.08356313e-05, 7.74898784e-06,\n",
       "       7.42367348e-05, 2.46739756e-04, 1.69120621e-04, 1.79716440e-04,\n",
       "       1.05854478e-04, 5.37383532e-05, 4.67105894e-06, 3.87556194e-05,\n",
       "       7.52478570e-06, 1.09709714e-04, 4.02923161e-04, 1.37694244e-04,\n",
       "       9.52961221e-06, 3.62747214e-04, 1.61276922e-06, 1.76684293e-06,\n",
       "       3.22463744e-05, 1.97326878e-04, 1.14359846e-04, 1.29638151e-04,\n",
       "       7.32505774e-06, 4.94204657e-04, 3.83511102e-05, 1.51886864e-03,\n",
       "       1.45698925e-04, 5.17344871e-06, 1.26733214e-06, 2.10242360e-06,\n",
       "       2.40015308e-05, 6.76016096e-05, 8.65323628e-05, 6.14322721e-05,\n",
       "       3.06654826e-04, 7.85884257e-04, 4.54190646e-05, 3.02139342e-06,\n",
       "       1.85849109e-04, 3.66710089e-05, 1.35490564e-06, 3.43459937e-05,\n",
       "       5.68744278e-05, 2.26841517e-05, 1.63796648e-04, 2.36914513e-04,\n",
       "       1.39277639e-04, 1.05389448e-04, 2.02985489e-05, 1.68026971e-05,\n",
       "       1.43736569e-05, 6.44430915e-04, 5.28898654e-06, 3.32551726e-05,\n",
       "       5.66692114e-05, 6.09957601e-05, 5.79773936e-05, 1.51626663e-06,\n",
       "       1.13784358e-04, 1.44557800e-05, 9.00140787e-06, 1.42502366e-05,\n",
       "       1.12224299e-05, 1.00578515e-04, 8.79569465e-05, 8.05959774e-06,\n",
       "       4.63581091e-05, 9.10957147e-05, 6.55585663e-05, 1.75216502e-05,\n",
       "       2.59049882e-05, 1.57958042e-03, 4.04080604e-05, 3.23985158e-05,\n",
       "       2.29110892e-04, 6.62045758e-06, 4.79865168e-04, 4.00923896e-05,\n",
       "       2.90762125e-05, 2.08045214e-04, 3.21879184e-04, 4.03812423e-05,\n",
       "       4.94001549e-05, 2.52506112e-04, 4.67910547e-04, 2.16209364e-03,\n",
       "       6.54807283e-05, 1.18658007e-04, 3.70174716e-05, 3.53400528e-02,\n",
       "       1.63914701e-05, 6.10973659e-04, 3.09590056e-05, 8.58123924e-05,\n",
       "       9.03744369e-05, 4.39355386e-05, 8.38507542e-07, 8.25058142e-06,\n",
       "       2.10937973e-05, 3.27376548e-05, 1.01123027e-05, 3.19511724e-03,\n",
       "       2.95042050e-05, 1.74578453e-05, 7.37086262e-05, 6.89578409e-06,\n",
       "       1.72243578e-06, 7.90646786e-05, 2.46215349e-04, 3.98030001e-05,\n",
       "       3.56138159e-05, 1.45160079e-05, 4.20259625e-04, 7.82318639e-06,\n",
       "       4.15209104e-06, 6.84325163e-05, 3.76026854e-05, 1.76165759e-04,\n",
       "       2.14967440e-05, 2.13461280e-04, 2.77006154e-05, 4.83831282e-05,\n",
       "       1.17048021e-05, 7.90185823e-06, 1.25269072e-04, 1.68382005e-05,\n",
       "       1.34778092e-04, 1.89962131e-04, 1.58176514e-04, 8.98062734e-05,\n",
       "       1.04769517e-04, 5.32495667e-05, 3.25980573e-04, 1.61849590e-04,\n",
       "       4.50994378e-06, 8.58254139e-06, 8.86487657e-05, 1.06789517e-04,\n",
       "       5.43243205e-05, 7.01000503e-05, 8.22547212e-05, 1.45366220e-04,\n",
       "       6.69326947e-06, 9.22899301e-06, 1.18166372e-05, 4.60672407e-05,\n",
       "       2.62317232e-06, 1.11992354e-04, 5.41917219e-05, 2.34654719e-04,\n",
       "       5.24803493e-05, 1.17082599e-03, 3.44652036e-04, 9.46273725e-05,\n",
       "       1.91620400e-05, 2.14848315e-05, 8.55801464e-05, 4.51196054e-04,\n",
       "       1.58680941e-04, 2.40826961e-04, 1.51258016e-06, 7.94969054e-05,\n",
       "       5.24820804e-06, 2.05734714e-04, 2.61879709e-05, 2.09032618e-04,\n",
       "       1.17966370e-03, 5.99153006e-06, 4.00011551e-04, 1.98173452e-04,\n",
       "       1.50802676e-05, 5.95307945e-06, 1.01223135e-05, 6.58859545e-06,\n",
       "       3.30376474e-04, 6.25942371e-04, 1.83508675e-05, 9.79229414e-05,\n",
       "       6.02330064e-04, 4.12260434e-06, 4.70373179e-04, 1.90941914e-04,\n",
       "       1.21955763e-04, 5.31898149e-04, 2.25943273e-03, 4.48420900e-04,\n",
       "       2.93193433e-04, 6.69843918e-05, 1.26999560e-05, 4.19167484e-03,\n",
       "       2.12753227e-04, 3.51669788e-04, 1.16269150e-04, 7.14053338e-04,\n",
       "       8.56728303e-05, 2.24528516e-06, 1.14529438e-03, 4.54061400e-05,\n",
       "       2.33427468e-04, 2.89714732e-05, 9.42657284e-04, 2.65581106e-06,\n",
       "       1.29780683e-03, 4.33322979e-05, 7.24705685e-05, 1.52912240e-05,\n",
       "       3.28495480e-05, 3.36923520e-04, 1.55405399e-03, 1.03183099e-03,\n",
       "       2.22538523e-04, 2.98454784e-03, 5.24426178e-05, 1.93396868e-03,\n",
       "       1.00059419e-04, 7.10932234e-04, 1.31995630e-04, 3.96533073e-05,\n",
       "       1.09120795e-04, 8.27229885e-04, 1.63946509e-04, 4.67001693e-04,\n",
       "       3.22477210e-04, 5.47377680e-04, 4.65527897e-04, 4.95770960e-05,\n",
       "       4.07743875e-04, 6.20118928e-04, 4.48651137e-04, 7.00024846e-05,\n",
       "       4.78615933e-05, 2.48849447e-04, 2.46155345e-03, 2.08171823e-04,\n",
       "       9.15982693e-03, 8.04715851e-04, 2.22683370e-05, 4.15755963e-02,\n",
       "       3.83156522e-04, 4.33719390e-04, 1.93868450e-04, 5.06268695e-04,\n",
       "       1.70013530e-03, 2.18799075e-04, 6.64849941e-04, 3.38608306e-04,\n",
       "       6.28935044e-05, 6.57818053e-04, 5.70857473e-05, 1.21087993e-04,\n",
       "       5.09770751e-04, 5.82660979e-03, 1.85970239e-04, 1.24299230e-04,\n",
       "       6.80418195e-04, 3.33350504e-04, 5.47134541e-04, 5.20281964e-05,\n",
       "       4.51868164e-04, 8.21231271e-04, 9.58202981e-06, 2.32191551e-05,\n",
       "       1.23877540e-03, 3.75269515e-06, 7.22119426e-04, 1.41509117e-04,\n",
       "       4.99754816e-05, 4.76581286e-04, 1.36052069e-04, 5.11939236e-05,\n",
       "       2.59538492e-04, 6.60129748e-04, 2.29007070e-04, 1.85866456e-04,\n",
       "       9.28603066e-06, 2.36550079e-04, 1.20086076e-03, 1.00187517e-05,\n",
       "       4.05072168e-05, 4.56413576e-04, 3.40888319e-06, 5.49460035e-04,\n",
       "       1.78215784e-03, 2.56062680e-03, 3.38942627e-03, 1.17022593e-06,\n",
       "       1.32815322e-03, 5.33532887e-03, 3.29926986e-04, 1.80129931e-06,\n",
       "       2.41720407e-05, 2.69190475e-05, 4.89543229e-06, 5.16913206e-04,\n",
       "       2.38340559e-06, 2.99514170e-04, 5.06522638e-05, 3.89121132e-05,\n",
       "       1.72714243e-06, 1.88468375e-04, 3.50199673e-05, 5.83530947e-05,\n",
       "       4.04231498e-06, 1.89348787e-04, 8.19808619e-05, 2.21059406e-05,\n",
       "       4.58493575e-07, 2.84190476e-06, 5.34379711e-06, 4.12185276e-05,\n",
       "       1.77244469e-04, 1.90951063e-06, 3.15126856e-03, 4.01323632e-05,\n",
       "       3.79113625e-04, 2.06415423e-05, 2.36122963e-05, 1.65268636e-06,\n",
       "       1.01444240e-05, 1.33740177e-04, 2.05699659e-05, 1.42599878e-06,\n",
       "       4.45797335e-05, 1.78950988e-05, 1.05583382e-04, 6.95903206e-06,\n",
       "       8.64569951e-07, 6.12017202e-05, 1.90893514e-04, 9.60749853e-04])"
      ]
     },
     "execution_count": 78,
     "metadata": {},
     "output_type": "execute_result"
    }
   ],
   "source": [
    "feature_importances = grid_search.best_estimator_.feature_importances_\n",
    "feature_importances"
   ]
  },
  {
   "cell_type": "code",
   "execution_count": null,
   "id": "e34abbd7",
   "metadata": {},
   "outputs": [],
   "source": []
  }
 ],
 "metadata": {
  "kernelspec": {
   "display_name": "Python 3 (ipykernel)",
   "language": "python",
   "name": "python3"
  },
  "language_info": {
   "codemirror_mode": {
    "name": "ipython",
    "version": 3
   },
   "file_extension": ".py",
   "mimetype": "text/x-python",
   "name": "python",
   "nbconvert_exporter": "python",
   "pygments_lexer": "ipython3",
   "version": "3.8.5"
  }
 },
 "nbformat": 4,
 "nbformat_minor": 5
}
